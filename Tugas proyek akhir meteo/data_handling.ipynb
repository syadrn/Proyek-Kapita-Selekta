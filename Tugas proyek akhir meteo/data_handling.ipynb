{
 "cells": [
  {
   "cell_type": "code",
   "execution_count": 1,
   "metadata": {},
   "outputs": [],
   "source": [
    "import numpy as np\n",
    "import pandas as pd\n",
    "import glob"
   ]
  },
  {
   "cell_type": "markdown",
   "metadata": {},
   "source": [
    "##### Handling Data Temperature"
   ]
  },
  {
   "cell_type": "code",
   "execution_count": 3,
   "metadata": {},
   "outputs": [],
   "source": [
    "def process_file_temp(file_path):\n",
    "    #Read the specific column (C) and rows (3 to 5), with no header's \n",
    "    head = pd.read_excel(file_path, usecols=\"C\", nrows=5, header=None)\n",
    "    #Remove the head. iloc, (double point and two spaces) from each cell \n",
    "    head.iloc[:, 0] = head.iloc[:, 0].str.replace(\": \", \"\", regex=False)\n",
    "    \n",
    "    station_id = head.iloc[0, 0] #ID as text station name head.lloc(1, 0) Nome as text\n",
    "    station_name = head.iloc[1, 0] #ID as text station name head.lloc(1, 0) Nome as text\n",
    "    latitude = float(head. iloc [2, 0]) #Latitude as a number\n",
    "    longitude = float (head.iloc[3, 0]) \n",
    "    elevation = float (head. iloc[4, 0]) \n",
    "    \n",
    "    #Read data starting from now 9 without Limiting the number of rous \n",
    "    data = pd.read_excel(file_path, usecols=\"A:K\", skiprows=8)\n",
    "    #Find the index of the row containing \"Keterangan:\"\n",
    "    keterangan_index = data [data.iloc[:, 0].str.contains(\"Keterangan :\", na=False)].index\n",
    "    if not keterangan_index.empty: \n",
    "        last_row_index = keterangan_index[0] - 4 # rows before the \"Keterangan row \n",
    "        relevant_data = data.loc[:last_row_index]\n",
    "    else:\n",
    "        relevant_data = data #If \"Keterangan Es not found, use all data\n",
    "    #Transpose the data\n",
    "    data_transposed = relevant_data.T\n",
    "    #Extract the header from now 1 (Sodes & after transposition)\n",
    "    headers = data_transposed.iloc[0].values \n",
    "    #Extract the favy data fron row 4 (Index 3 after transposition) \n",
    "    tavg_data = data_transposed.iloc[3].values\n",
    "    #create a dataFrame\n",
    "    tavg_df = pd.DataFrame([tavg_data], columns=headers)\n",
    "    \n",
    "    metadata = {\n",
    "        'station_id': [station_id],\n",
    "        'station_name': [station_name],\n",
    "        'latitude': [latitude],\n",
    "        'longitude': [longitude],\n",
    "        'elevation': [elevation]\n",
    "    }\n",
    "    metadata_df = pd.DataFrame(metadata)\n",
    "    #Combine metadata with Tavg data\n",
    "    combined_data = pd.concat([metadata_df, tavg_df], axis=1)\n",
    "    \n",
    "    return combined_data\n",
    "#Example usage with file path\n",
    "#combined data process file('path_to_your_file.xlsx')\n",
    "\n",
    "file_pattern = 'data/laporan_iklim_harian*.xlsx'\n",
    "files = glob.glob(file_pattern)\n",
    "\n",
    "all_data = []\n",
    "\n",
    "for file in files:\n",
    "    df = process_file_temp(file)\n",
    "    all_data.append(df)\n",
    "\n",
    "final_data_temp = pd.concat(all_data, ignore_index = True)"
   ]
  },
  {
   "cell_type": "markdown",
   "metadata": {},
   "source": [
    "##### Handling data Kelembaban"
   ]
  },
  {
   "cell_type": "code",
   "execution_count": 4,
   "metadata": {},
   "outputs": [],
   "source": [
    "def process_file_humid(file_path):\n",
    "    #Read the specific column (C) and rows (3 to 5), with no header's \n",
    "    head = pd.read_excel(file_path, usecols=\"C\", nrows=5, header=None)\n",
    "    #Remove the head. iloc, (double point and two spaces) from each cell \n",
    "    head.iloc[:, 0] = head.iloc[:, 0].str.replace(\": \", \"\", regex=False)\n",
    "    \n",
    "    station_id = head.iloc[0, 0] #ID as text station name head.lloc(1, 0) Nome as text\n",
    "    station_name = head.iloc[1, 0] #ID as text station name head.lloc(1, 0) Nome as text\n",
    "    latitude = float(head. iloc [2, 0]) #Latitude as a number\n",
    "    longitude = float (head.iloc[3, 0]) \n",
    "    elevation = float (head. iloc[4, 0]) \n",
    "    \n",
    "    #Read data starting from now 9 without Limiting the number of rous \n",
    "    data = pd.read_excel(file_path, usecols=\"A:K\", skiprows=8)\n",
    "    #Find the index of the row containing \"Keterangan:\"\n",
    "    keterangan_index = data [data.iloc[:, 0].str.contains(\"Keterangan :\", na=False)].index\n",
    "    if not keterangan_index.empty: \n",
    "        last_row_index = keterangan_index[0] - 4 # rows before the \"Keterangan row \n",
    "        relevant_data = data.loc[:last_row_index]\n",
    "    else:\n",
    "        relevant_data = data #If \"Keterangan Es not found, use all data\n",
    "    #Transpose the data\n",
    "    data_transposed = relevant_data.T\n",
    "    #Extract the header from now 1 (Sodes & after transposition)\n",
    "    headers = data_transposed.iloc[0].values \n",
    "    #Extract the favy data fron row 4 (Index 3 after transposition) \n",
    "    Rh_data = data_transposed.iloc[4].values\n",
    "    #create a dataFrame\n",
    "    rh_df = pd.DataFrame([Rh_data], columns=headers)\n",
    "    \n",
    "    metadata = {\n",
    "        'station_id': [station_id],\n",
    "        'station_name': [station_name],\n",
    "        'latitude': [latitude],\n",
    "        'longitude': [longitude],\n",
    "        'elevation': [elevation]\n",
    "    }\n",
    "    metadata_df = pd.DataFrame(metadata)\n",
    "    #Combine metadata with Tavg data\n",
    "    combined_data = pd.concat([metadata_df, rh_df], axis=1)\n",
    "    \n",
    "    return combined_data\n",
    "\n",
    "file_pattern = 'data/laporan_iklim_harian*.xlsx'\n",
    "files = glob.glob(file_pattern)\n",
    "\n",
    "all_data = []\n",
    "\n",
    "for file in files:\n",
    "    df = process_file_humid(file)\n",
    "    all_data.append(df)\n",
    "\n",
    "final_data_humid = pd.concat(all_data, ignore_index = True)\n"
   ]
  },
  {
   "cell_type": "markdown",
   "metadata": {},
   "source": [
    "##### Handling data Curah Hujan"
   ]
  },
  {
   "cell_type": "code",
   "execution_count": 5,
   "metadata": {},
   "outputs": [],
   "source": [
    "def process_file_hujan(file_path):\n",
    "    #Read the specific column (C) and rows (3 to 5), with no header's \n",
    "    head = pd.read_excel(file_path, usecols=\"C\", nrows=5, header=None)\n",
    "    #Remove the head. iloc, (double point and two spaces) from each cell \n",
    "    head.iloc[:, 0] = head.iloc[:, 0].str.replace(\": \", \"\", regex=False)\n",
    "    \n",
    "    station_id = head.iloc[0, 0] #ID as text station name head.lloc(1, 0) Nome as text\n",
    "    station_name = head.iloc[1, 0] #ID as text station name head.lloc(1, 0) Nome as text\n",
    "    latitude = float(head. iloc [2, 0]) #Latitude as a number\n",
    "    longitude = float (head.iloc[3, 0]) \n",
    "    elevation = float (head. iloc[4, 0]) \n",
    "    \n",
    "    #Read data starting from now 9 without Limiting the number of rous \n",
    "    data = pd.read_excel(file_path, usecols=\"A:K\", skiprows=8)\n",
    "    #Find the index of the row containing \"Keterangan:\"\n",
    "    keterangan_index = data [data.iloc[:, 0].str.contains(\"Keterangan :\", na=False)].index\n",
    "    if not keterangan_index.empty: \n",
    "        last_row_index = keterangan_index[0] - 4 # rows before the \"Keterangan row \n",
    "        relevant_data = data.loc[:last_row_index]\n",
    "    else:\n",
    "        relevant_data = data #If \"Keterangan Es not found, use all data\n",
    "    #Transpose the data\n",
    "    data_transposed = relevant_data.T\n",
    "    #Extract the header from now 1 (Sodes & after transposition)\n",
    "    headers = data_transposed.iloc[0].values \n",
    "    #Extract the favy data fron row 4 (Index 3 after transposition) \n",
    "    RR_data = data_transposed.iloc[5].values\n",
    "    #create a dataFrame\n",
    "    RR_df = pd.DataFrame([RR_data], columns=headers)\n",
    "    \n",
    "    metadata = {\n",
    "        'station_id': [station_id],\n",
    "        'station_name': [station_name],\n",
    "        'latitude': [latitude],\n",
    "        'longitude': [longitude],\n",
    "        'elevation': [elevation]\n",
    "    }\n",
    "    metadata_df = pd.DataFrame(metadata)\n",
    "    #Combine metadata with Tavg data\n",
    "    combined_data = pd.concat([metadata_df, RR_df], axis=1)\n",
    "    \n",
    "    return combined_data\n",
    "#Example usage with file path\n",
    "#combined data process file('path_to_your_file.xlsx')\n",
    "\n",
    "\n",
    "file_pattern = 'data/laporan_iklim_harian*.xlsx'\n",
    "files = glob.glob(file_pattern)\n",
    "\n",
    "all_data = []\n",
    "\n",
    "for file in files:\n",
    "    df = process_file_hujan(file)\n",
    "    all_data.append(df)\n",
    "\n",
    "final_data_hujan = pd.concat(all_data, ignore_index = True)\n"
   ]
  },
  {
   "cell_type": "code",
   "execution_count": 6,
   "metadata": {},
   "outputs": [],
   "source": [
    "final_data_hujan.replace([8888, 9999], np.nan, inplace=True)"
   ]
  },
  {
   "cell_type": "code",
   "execution_count": 7,
   "metadata": {},
   "outputs": [],
   "source": [
    "final_data_temp = final_data_temp.ffill()\n",
    "final_data_humid = final_data_humid.ffill()\n",
    "final_data_hujan = final_data_hujan.ffill()"
   ]
  },
  {
   "cell_type": "markdown",
   "metadata": {},
   "source": [
    "Cetak Excel"
   ]
  },
  {
   "cell_type": "code",
   "execution_count": 8,
   "metadata": {},
   "outputs": [],
   "source": [
    "hujan_file = 'data_kalimantan/hasil_curah_hujan.xlsx'\n",
    "humid_file = 'data_kalimantan/hasil_kelembaban.xlsx'\n",
    "temp_file = 'data_kalimantan/hasil_temperatur.xlsx'\n",
    "\n",
    "final_data_hujan.to_excel(hujan_file, index=False)\n",
    "final_data_humid.to_excel(humid_file, index=False)\n",
    "final_data_temp.to_excel(temp_file, index=False)"
   ]
  }
 ],
 "metadata": {
  "kernelspec": {
   "display_name": "Python 3",
   "language": "python",
   "name": "python3"
  },
  "language_info": {
   "codemirror_mode": {
    "name": "ipython",
    "version": 3
   },
   "file_extension": ".py",
   "mimetype": "text/x-python",
   "name": "python",
   "nbconvert_exporter": "python",
   "pygments_lexer": "ipython3",
   "version": "3.11.9"
  }
 },
 "nbformat": 4,
 "nbformat_minor": 2
}
