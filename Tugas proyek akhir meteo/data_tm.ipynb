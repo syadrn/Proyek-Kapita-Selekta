{
 "cells": [
  {
   "cell_type": "code",
   "execution_count": null,
   "metadata": {
    "vscode": {
     "languageId": "plaintext"
    }
   },
   "outputs": [],
   "source": [
    "import pandas as pd\n",
    "import glob \n",
    "import matplotlib.pyplot as plt\n",
    "\n",
    "def process_file(file_path):\n",
    "    head = pd.read_excel(file_path, usecols = 'C', nrows = 5, header = None )\n",
    "    head.iloc[:,0] = head.iloc[:, 0].str.replace(\": \", \"\", regex = False)\n",
    "    station_id = head.iloc[0,0]  # sebagai teks ID\n",
    "    station_name = head.iloc[1,0] # sebagai nama \n",
    "    latitude = float(head.iloc[2,0]) # sebagai lintang\n",
    "    longitude = float(head.iloc[3,0]) # sebagai bujur\n",
    "    elevation = float(head.iloc[4,0]) # sebagai elevasi\n",
    "\n",
    "    data = pd.read_excel(file_path, usecols = \"A:K\", skiprows = 8)\n",
    "    \n",
    "    keterangan_index = data[data.iloc[:, 0].str.contains(\"Keterangan :\", na=False)].index\n",
    "    if not keterangan_index.empty:\n",
    "        last_row_index = keterangan_index[0] - 4\n",
    "        relevant_data = data.loc[:last_row_index]\n",
    "    else:\n",
    "        relevant_data = data \n",
    "    \n",
    "    data_transposed = relevant_data.T\n",
    "\n",
    "    headers = data_transposed.iloc[0].values\n",
    "\n",
    "    tavg_data = data_transposed.iloc[3].values\n",
    "\n",
    "    tavg_df = pd.DataFrame([tavg_data], columns = headers)\n",
    "\n",
    "    return tavg_df\n",
    "\n",
    "\n",
    "file_pattern = 'data/laporan_iklim_harian*.xlsx'\n",
    "files = glob.glob(file_pattern)\n",
    "\n",
    "all_data = []\n",
    "\n",
    "for file in files:\n",
    "    df = process_file(file)\n",
    "    all_data.append(df)\n",
    "\n",
    "final_combined_data = pd.concat(all_data, ignore_index = True)\n",
    "\n",
    "print(final_combined_data)\n"
   ]
  },
  {
   "cell_type": "code",
   "execution_count": null,
   "metadata": {
    "vscode": {
     "languageId": "plaintext"
    }
   },
   "outputs": [],
   "source": [
    "daily_avg=final_combined_data.mean()"
   ]
  },
  {
   "cell_type": "code",
   "execution_count": null,
   "metadata": {
    "vscode": {
     "languageId": "plaintext"
    }
   },
   "outputs": [],
   "source": [
    "print(daily_avg)"
   ]
  },
  {
   "cell_type": "code",
   "execution_count": null,
   "metadata": {
    "vscode": {
     "languageId": "plaintext"
    }
   },
   "outputs": [],
   "source": [
    "dates = df.columns[0:]\n",
    "dates = pd.to_datetime(dates, dayfirst=True)\n",
    "print(dates)"
   ]
  },
  {
   "cell_type": "code",
   "execution_count": null,
   "metadata": {
    "vscode": {
     "languageId": "plaintext"
    }
   },
   "outputs": [],
   "source": [
    "plt.plot(dates, daily_avg, marker = '*', color = 'r')\n",
    "plt.xticks(rotation = 45)\n",
    "\n",
    "plt.xlabel(\"Date\")\n",
    "plt.ylabel('Tavg Data')\n",
    "plt.title(f'Time series Visualization')\n",
    "plt.tight_layout()"
   ]
  }
 ],
 "metadata": {
  "language_info": {
   "name": "python"
  }
 },
 "nbformat": 4,
 "nbformat_minor": 2
}
